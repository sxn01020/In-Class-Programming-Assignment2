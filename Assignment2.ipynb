{
 "cells": [
  {
   "cell_type": "code",
   "execution_count": 20,
   "id": "262359d5",
   "metadata": {},
   "outputs": [
    {
     "name": "stdout",
     "output_type": "stream",
     "text": [
      "* \n",
      "* * \n",
      "* * * \n",
      "* * * * \n",
      "* * * * * \n",
      "* * * * \n",
      "* * * \n",
      "* * \n",
      "* \n",
      "\n"
     ]
    }
   ],
   "source": [
    "#using for loop to print the *\n",
    "for i in range(1,6):\n",
    "    #prinitng *'s\n",
    "    print(\"* \"*i)\n",
    "    #when the range reaches the highest level it will start decreasing and print *\n",
    "    if i==5:\n",
    "        while i!=0:\n",
    "            i-=1\n",
    "            print(\"* \"*i)\n",
    "        exit"
   ]
  },
  {
   "cell_type": "code",
   "execution_count": 23,
   "id": "fd49ba8c",
   "metadata": {},
   "outputs": [
    {
     "name": "stdout",
     "output_type": "stream",
     "text": [
      "20\n",
      "40\n",
      "60\n",
      "80\n",
      "100\n"
     ]
    }
   ],
   "source": [
    "#Input list of elements\n",
    "my_list=[10,20,30,40,50,60,70,80,90,100]\n",
    "\n",
    "#Using step in range of 1 to length of input list to get the odd indexes \n",
    "for i in range(1,len(my_list),2):\n",
    "    print(my_list[i])"
   ]
  },
  {
   "cell_type": "code",
   "execution_count": 28,
   "id": "a8d91153",
   "metadata": {},
   "outputs": [
    {
     "name": "stdout",
     "output_type": "stream",
     "text": [
      "[23, 'Python', 23.98]\n",
      "[<class 'int'>, <class 'str'>, <class 'float'>]\n"
     ]
    }
   ],
   "source": [
    "#input list\n",
    "x=[23,'Python',23.98]\n",
    "\n",
    "#creating an empty list to append the type of the elements from the input list\n",
    "y=[]\n",
    "\n",
    "#using for loop to append the type of each element\n",
    "for i in x:\n",
    "    y.append(type(i))\n",
    "\n",
    "#printing the input list and the list containing type of each element\n",
    "print(x)\n",
    "print(y)"
   ]
  },
  {
   "cell_type": "code",
   "execution_count": 33,
   "id": "529fe681",
   "metadata": {},
   "outputs": [
    {
     "name": "stdout",
     "output_type": "stream",
     "text": [
      "[1, 2, 3, 4, 5]\n"
     ]
    }
   ],
   "source": [
    "#function to return unique list\n",
    "def fun(sample_list):\n",
    "    #using set to get the unique values\n",
    "    set1=set(simple_list)\n",
    "    #creating a list from the set\n",
    "    unique_list=list(set1)\n",
    "    #returning the unique elements from the input list\n",
    "    return unique_list\n",
    "        \n",
    "#input list\n",
    "simple_list=[1,2,3,3,3,3,4,5]\n",
    "#calling the function and passing the input list as an argument and taking the output returned by the function\n",
    "unique_list=fun(simple_list)\n",
    "\n",
    "#prinitng the unique list\n",
    "print(unique_list)"
   ]
  },
  {
   "cell_type": "code",
   "execution_count": 39,
   "id": "4adf5dba",
   "metadata": {},
   "outputs": [
    {
     "name": "stdout",
     "output_type": "stream",
     "text": [
      "No:of Upper-case characters:  3\n",
      "No:of Lower-case Characters:  12\n"
     ]
    }
   ],
   "source": [
    "#function to return number of lower-case and upper-case characters from the input string\n",
    "def fun1(string):\n",
    "    #creating lower and upper lists\n",
    "    upper=[]\n",
    "    lower=[]\n",
    "    #taking each character from the string and checking if it is lower-case or upper-case and appending to its lower or upper lists\n",
    "    for i in string:\n",
    "        if i.isupper():\n",
    "            upper.append(i)\n",
    "        elif i.islower():\n",
    "            lower.append(i)\n",
    "    #returning the lower-case and upper-case charcater lists\n",
    "    return upper,lower\n",
    "\n",
    "#input string\n",
    "string=\"The quick Brow Fox\"\n",
    "#calling the function and passing the input string as an argument to the function and taking the output returned by the function\n",
    "upper,lower=fun1(string)\n",
    "\n",
    "#printing the number of lower-case and upper-case characters from the input string\n",
    "print(\"No:of Upper-case characters: \",len(upper))\n",
    "print(\"No:of Lower-case Characters: \",len(lower))"
   ]
  }
 ],
 "metadata": {
  "kernelspec": {
   "display_name": "Python 3 (ipykernel)",
   "language": "python",
   "name": "python3"
  },
  "language_info": {
   "codemirror_mode": {
    "name": "ipython",
    "version": 3
   },
   "file_extension": ".py",
   "mimetype": "text/x-python",
   "name": "python",
   "nbconvert_exporter": "python",
   "pygments_lexer": "ipython3",
   "version": "3.9.13"
  }
 },
 "nbformat": 4,
 "nbformat_minor": 5
}
